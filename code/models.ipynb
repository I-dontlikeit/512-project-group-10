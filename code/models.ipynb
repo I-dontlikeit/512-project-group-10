{
 "cells": [
  {
   "cell_type": "code",
   "execution_count": 116,
   "metadata": {
    "vscode": {
     "languageId": "r"
    }
   },
   "outputs": [],
   "source": [
    "library(ISLR)\n",
    "library(gam)\n",
    "library(splines)\n",
    "library(tidyverse)\n",
    "library(caret)\n",
    "library(leaps)\n",
    "library(corrplot)\n",
    "library(ggplot2)\n",
    "library(dplyr)"
   ]
  },
  {
   "cell_type": "code",
   "execution_count": 117,
   "metadata": {
    "vscode": {
     "languageId": "r"
    }
   },
   "outputs": [],
   "source": [
    "data = read.csv(\"../data/clean_data/final.csv\")"
   ]
  },
  {
   "cell_type": "code",
   "execution_count": 118,
   "metadata": {
    "vscode": {
     "languageId": "r"
    }
   },
   "outputs": [
    {
     "data": {
      "text/html": [
       "<table class=\"dataframe\">\n",
       "<caption>A data.frame: 6 x 11</caption>\n",
       "<thead>\n",
       "\t<tr><th></th><th scope=col>HDI.Rank</th><th scope=col>Country</th><th scope=col>Gender.Inequality.Index.Value</th><th scope=col>Gender.Inequality.Index.Rank</th><th scope=col>Maternal.Mortality.Ratio</th><th scope=col>Adolescent.Birth.Rate</th><th scope=col>Women.Share.of.Seats.in.Parliament</th><th scope=col>Female.Population.with.Some.Secondary.Education</th><th scope=col>Male.Population.with.Some.Secondary.Education</th><th scope=col>Female.Labour.Force.Participation.Rate</th><th scope=col>Male.Labour.Force.Participation.Rate</th></tr>\n",
       "\t<tr><th></th><th scope=col>&lt;dbl&gt;</th><th scope=col>&lt;chr&gt;</th><th scope=col>&lt;dbl&gt;</th><th scope=col>&lt;int&gt;</th><th scope=col>&lt;dbl&gt;</th><th scope=col>&lt;dbl&gt;</th><th scope=col>&lt;dbl&gt;</th><th scope=col>&lt;dbl&gt;</th><th scope=col>&lt;dbl&gt;</th><th scope=col>&lt;dbl&gt;</th><th scope=col>&lt;dbl&gt;</th></tr>\n",
       "</thead>\n",
       "<tbody>\n",
       "\t<tr><th scope=row>1</th><td>1</td><td>Switzerland           </td><td>0.018</td><td> 3</td><td>5</td><td>2.2</td><td>39.8</td><td>96.9</td><td>97.5</td><td>61.7</td><td>72.7</td></tr>\n",
       "\t<tr><th scope=row>2</th><td>2</td><td>Norway                </td><td>0.016</td><td> 2</td><td>2</td><td>2.3</td><td>45.0</td><td>99.1</td><td>99.3</td><td>60.3</td><td>72.0</td></tr>\n",
       "\t<tr><th scope=row>3</th><td>3</td><td>Iceland               </td><td>0.043</td><td> 8</td><td>4</td><td>5.4</td><td>47.6</td><td>99.8</td><td>99.7</td><td>61.7</td><td>70.5</td></tr>\n",
       "\t<tr><th scope=row>4</th><td>4</td><td>Hong Kong, China (SAR)</td><td>0.000</td><td> 0</td><td>0</td><td>1.6</td><td> 0.0</td><td>77.1</td><td>83.4</td><td>53.5</td><td>65.8</td></tr>\n",
       "\t<tr><th scope=row>5</th><td>5</td><td>Australia             </td><td>0.073</td><td>19</td><td>6</td><td>8.1</td><td>37.9</td><td>94.6</td><td>94.4</td><td>61.1</td><td>70.5</td></tr>\n",
       "\t<tr><th scope=row>6</th><td>6</td><td>Denmark               </td><td>0.013</td><td> 1</td><td>4</td><td>1.9</td><td>39.7</td><td>95.1</td><td>95.2</td><td>57.7</td><td>66.7</td></tr>\n",
       "</tbody>\n",
       "</table>\n"
      ],
      "text/latex": [
       "A data.frame: 6 x 11\n",
       "\\begin{tabular}{r|lllllllllll}\n",
       "  & HDI.Rank & Country & Gender.Inequality.Index.Value & Gender.Inequality.Index.Rank & Maternal.Mortality.Ratio & Adolescent.Birth.Rate & Women.Share.of.Seats.in.Parliament & Female.Population.with.Some.Secondary.Education & Male.Population.with.Some.Secondary.Education & Female.Labour.Force.Participation.Rate & Male.Labour.Force.Participation.Rate\\\\\n",
       "  & <dbl> & <chr> & <dbl> & <int> & <dbl> & <dbl> & <dbl> & <dbl> & <dbl> & <dbl> & <dbl>\\\\\n",
       "\\hline\n",
       "\t1 & 1 & Switzerland            & 0.018 &  3 & 5 & 2.2 & 39.8 & 96.9 & 97.5 & 61.7 & 72.7\\\\\n",
       "\t2 & 2 & Norway                 & 0.016 &  2 & 2 & 2.3 & 45.0 & 99.1 & 99.3 & 60.3 & 72.0\\\\\n",
       "\t3 & 3 & Iceland                & 0.043 &  8 & 4 & 5.4 & 47.6 & 99.8 & 99.7 & 61.7 & 70.5\\\\\n",
       "\t4 & 4 & Hong Kong, China (SAR) & 0.000 &  0 & 0 & 1.6 &  0.0 & 77.1 & 83.4 & 53.5 & 65.8\\\\\n",
       "\t5 & 5 & Australia              & 0.073 & 19 & 6 & 8.1 & 37.9 & 94.6 & 94.4 & 61.1 & 70.5\\\\\n",
       "\t6 & 6 & Denmark                & 0.013 &  1 & 4 & 1.9 & 39.7 & 95.1 & 95.2 & 57.7 & 66.7\\\\\n",
       "\\end{tabular}\n"
      ],
      "text/markdown": [
       "\n",
       "A data.frame: 6 x 11\n",
       "\n",
       "| <!--/--> | HDI.Rank &lt;dbl&gt; | Country &lt;chr&gt; | Gender.Inequality.Index.Value &lt;dbl&gt; | Gender.Inequality.Index.Rank &lt;int&gt; | Maternal.Mortality.Ratio &lt;dbl&gt; | Adolescent.Birth.Rate &lt;dbl&gt; | Women.Share.of.Seats.in.Parliament &lt;dbl&gt; | Female.Population.with.Some.Secondary.Education &lt;dbl&gt; | Male.Population.with.Some.Secondary.Education &lt;dbl&gt; | Female.Labour.Force.Participation.Rate &lt;dbl&gt; | Male.Labour.Force.Participation.Rate &lt;dbl&gt; |\n",
       "|---|---|---|---|---|---|---|---|---|---|---|---|\n",
       "| 1 | 1 | Switzerland            | 0.018 |  3 | 5 | 2.2 | 39.8 | 96.9 | 97.5 | 61.7 | 72.7 |\n",
       "| 2 | 2 | Norway                 | 0.016 |  2 | 2 | 2.3 | 45.0 | 99.1 | 99.3 | 60.3 | 72.0 |\n",
       "| 3 | 3 | Iceland                | 0.043 |  8 | 4 | 5.4 | 47.6 | 99.8 | 99.7 | 61.7 | 70.5 |\n",
       "| 4 | 4 | Hong Kong, China (SAR) | 0.000 |  0 | 0 | 1.6 |  0.0 | 77.1 | 83.4 | 53.5 | 65.8 |\n",
       "| 5 | 5 | Australia              | 0.073 | 19 | 6 | 8.1 | 37.9 | 94.6 | 94.4 | 61.1 | 70.5 |\n",
       "| 6 | 6 | Denmark                | 0.013 |  1 | 4 | 1.9 | 39.7 | 95.1 | 95.2 | 57.7 | 66.7 |\n",
       "\n"
      ],
      "text/plain": [
       "  HDI.Rank Country                Gender.Inequality.Index.Value\n",
       "1 1        Switzerland            0.018                        \n",
       "2 2        Norway                 0.016                        \n",
       "3 3        Iceland                0.043                        \n",
       "4 4        Hong Kong, China (SAR) 0.000                        \n",
       "5 5        Australia              0.073                        \n",
       "6 6        Denmark                0.013                        \n",
       "  Gender.Inequality.Index.Rank Maternal.Mortality.Ratio Adolescent.Birth.Rate\n",
       "1  3                           5                        2.2                  \n",
       "2  2                           2                        2.3                  \n",
       "3  8                           4                        5.4                  \n",
       "4  0                           0                        1.6                  \n",
       "5 19                           6                        8.1                  \n",
       "6  1                           4                        1.9                  \n",
       "  Women.Share.of.Seats.in.Parliament\n",
       "1 39.8                              \n",
       "2 45.0                              \n",
       "3 47.6                              \n",
       "4  0.0                              \n",
       "5 37.9                              \n",
       "6 39.7                              \n",
       "  Female.Population.with.Some.Secondary.Education\n",
       "1 96.9                                           \n",
       "2 99.1                                           \n",
       "3 99.8                                           \n",
       "4 77.1                                           \n",
       "5 94.6                                           \n",
       "6 95.1                                           \n",
       "  Male.Population.with.Some.Secondary.Education\n",
       "1 97.5                                         \n",
       "2 99.3                                         \n",
       "3 99.7                                         \n",
       "4 83.4                                         \n",
       "5 94.4                                         \n",
       "6 95.2                                         \n",
       "  Female.Labour.Force.Participation.Rate Male.Labour.Force.Participation.Rate\n",
       "1 61.7                                   72.7                                \n",
       "2 60.3                                   72.0                                \n",
       "3 61.7                                   70.5                                \n",
       "4 53.5                                   65.8                                \n",
       "5 61.1                                   70.5                                \n",
       "6 57.7                                   66.7                                "
      ]
     },
     "metadata": {},
     "output_type": "display_data"
    }
   ],
   "source": [
    "head(data)"
   ]
  },
  {
   "cell_type": "code",
   "execution_count": 119,
   "metadata": {
    "vscode": {
     "languageId": "r"
    }
   },
   "outputs": [],
   "source": [
    "data = data %>% rename(\n",
    "    \"HDI_Rank\" = \"HDI.Rank\",\n",
    "    \"Gender_Inequality_Index_Value\" = \"Gender.Inequality.Index.Value\",\n",
    "    \"Gender_Inequality_Index_Rank\" = \"Gender.Inequality.Index.Rank\",\n",
    "    \"Maternal_Mortality_Ratio\" = \"Maternal.Mortality.Ratio\",\n",
    "    \"Adolescent_Birth_Rate\" = \"Adolescent.Birth.Rate\",\n",
    "    \"Women_share_of_Seats_in_Parliament\" = \"Women.Share.of.Seats.in.Parliament\",\n",
    "    \"Female_Population_with_Some_Secondary_Education\" = \"Female.Population.with.Some.Secondary.Education\",\n",
    "    \"Male_Population_with_Some_Secondary_Education\" = \"Male.Population.with.Some.Secondary.Education\",\n",
    "    \"Female_Labour_Force_Participation_Rate\" = \"Female.Labour.Force.Participation.Rate\",\n",
    "    \"Male_Labour_Force_Participation_Rate\" = \"Male.Labour.Force.Participation.Rate\"\n",
    ")\n"
   ]
  },
  {
   "cell_type": "code",
   "execution_count": 120,
   "metadata": {
    "vscode": {
     "languageId": "r"
    }
   },
   "outputs": [],
   "source": [
    "\n",
    "#replace na with mean\n",
    "data$Maternal_Mortality_Ratio[is.na(data$Maternal_Mortality_Ratio)] = mean(data$Maternal_Mortality_Ratio, na.rm = TRUE)"
   ]
  },
  {
   "cell_type": "code",
   "execution_count": 121,
   "metadata": {
    "vscode": {
     "languageId": "r"
    }
   },
   "outputs": [
    {
     "data": {
      "text/html": [
       "<table class=\"dataframe\">\n",
       "<caption>A matrix: 10 x 10 of type dbl</caption>\n",
       "<thead>\n",
       "\t<tr><th></th><th scope=col>HDI_Rank</th><th scope=col>Gender_Inequality_Index_Value</th><th scope=col>Gender_Inequality_Index_Rank</th><th scope=col>Maternal_Mortality_Ratio</th><th scope=col>Adolescent_Birth_Rate</th><th scope=col>Women_share_of_Seats_in_Parliament</th><th scope=col>Female_Population_with_Some_Secondary_Education</th><th scope=col>Male_Population_with_Some_Secondary_Education</th><th scope=col>Female_Labour_Force_Participation_Rate</th><th scope=col>Male_Labour_Force_Participation_Rate</th></tr>\n",
       "</thead>\n",
       "<tbody>\n",
       "\t<tr><th scope=row>HDI_Rank</th><td> 1.00000000</td><td> 0.7514582</td><td> 0.7549718</td><td> 0.6688352</td><td> 0.7634002</td><td>-0.24772349</td><td>-0.6525573</td><td>-0.5945172</td><td>0.09740211</td><td>0.15353006</td></tr>\n",
       "\t<tr><th scope=row>Gender_Inequality_Index_Value</th><td> 0.75145823</td><td> 1.0000000</td><td> 0.9976621</td><td> 0.6084885</td><td> 0.6584749</td><td>-0.23457433</td><td>-0.3564104</td><td>-0.2720597</td><td>0.23052301</td><td>0.42532331</td></tr>\n",
       "\t<tr><th scope=row>Gender_Inequality_Index_Rank</th><td> 0.75497181</td><td> 0.9976621</td><td> 1.0000000</td><td> 0.6231101</td><td> 0.6709990</td><td>-0.23245900</td><td>-0.3603170</td><td>-0.2739976</td><td>0.24111702</td><td>0.42413094</td></tr>\n",
       "\t<tr><th scope=row>Maternal_Mortality_Ratio</th><td> 0.66883515</td><td> 0.6084885</td><td> 0.6231101</td><td> 1.0000000</td><td> 0.7372338</td><td>-0.15209160</td><td>-0.5874916</td><td>-0.5208702</td><td>0.24240635</td><td>0.19234246</td></tr>\n",
       "\t<tr><th scope=row>Adolescent_Birth_Rate</th><td> 0.76340020</td><td> 0.6584749</td><td> 0.6709990</td><td> 0.7372338</td><td> 1.0000000</td><td>-0.10386621</td><td>-0.6024250</td><td>-0.5440827</td><td>0.21826712</td><td>0.15983100</td></tr>\n",
       "\t<tr><th scope=row>Women_share_of_Seats_in_Parliament</th><td>-0.24772349</td><td>-0.2345743</td><td>-0.2324590</td><td>-0.1520916</td><td>-0.1038662</td><td> 1.00000000</td><td> 0.1693096</td><td> 0.1702654</td><td>0.21279477</td><td>0.06542927</td></tr>\n",
       "\t<tr><th scope=row>Female_Population_with_Some_Secondary_Education</th><td>-0.65255733</td><td>-0.3564104</td><td>-0.3603170</td><td>-0.5874916</td><td>-0.6024250</td><td> 0.16930960</td><td> 1.0000000</td><td> 0.9787175</td><td>0.10929913</td><td>0.15879261</td></tr>\n",
       "\t<tr><th scope=row>Male_Population_with_Some_Secondary_Education</th><td>-0.59451722</td><td>-0.2720597</td><td>-0.2739976</td><td>-0.5208702</td><td>-0.5440827</td><td> 0.17026537</td><td> 0.9787175</td><td> 1.0000000</td><td>0.15219099</td><td>0.20248229</td></tr>\n",
       "\t<tr><th scope=row>Female_Labour_Force_Participation_Rate</th><td> 0.09740211</td><td> 0.2305230</td><td> 0.2411170</td><td> 0.2424064</td><td> 0.2182671</td><td> 0.21279477</td><td> 0.1092991</td><td> 0.1521910</td><td>1.00000000</td><td>0.75423320</td></tr>\n",
       "\t<tr><th scope=row>Male_Labour_Force_Participation_Rate</th><td> 0.15353006</td><td> 0.4253233</td><td> 0.4241309</td><td> 0.1923425</td><td> 0.1598310</td><td> 0.06542927</td><td> 0.1587926</td><td> 0.2024823</td><td>0.75423320</td><td>1.00000000</td></tr>\n",
       "</tbody>\n",
       "</table>\n"
      ],
      "text/latex": [
       "A matrix: 10 x 10 of type dbl\n",
       "\\begin{tabular}{r|llllllllll}\n",
       "  & HDI\\_Rank & Gender\\_Inequality\\_Index\\_Value & Gender\\_Inequality\\_Index\\_Rank & Maternal\\_Mortality\\_Ratio & Adolescent\\_Birth\\_Rate & Women\\_share\\_of\\_Seats\\_in\\_Parliament & Female\\_Population\\_with\\_Some\\_Secondary\\_Education & Male\\_Population\\_with\\_Some\\_Secondary\\_Education & Female\\_Labour\\_Force\\_Participation\\_Rate & Male\\_Labour\\_Force\\_Participation\\_Rate\\\\\n",
       "\\hline\n",
       "\tHDI\\_Rank &  1.00000000 &  0.7514582 &  0.7549718 &  0.6688352 &  0.7634002 & -0.24772349 & -0.6525573 & -0.5945172 & 0.09740211 & 0.15353006\\\\\n",
       "\tGender\\_Inequality\\_Index\\_Value &  0.75145823 &  1.0000000 &  0.9976621 &  0.6084885 &  0.6584749 & -0.23457433 & -0.3564104 & -0.2720597 & 0.23052301 & 0.42532331\\\\\n",
       "\tGender\\_Inequality\\_Index\\_Rank &  0.75497181 &  0.9976621 &  1.0000000 &  0.6231101 &  0.6709990 & -0.23245900 & -0.3603170 & -0.2739976 & 0.24111702 & 0.42413094\\\\\n",
       "\tMaternal\\_Mortality\\_Ratio &  0.66883515 &  0.6084885 &  0.6231101 &  1.0000000 &  0.7372338 & -0.15209160 & -0.5874916 & -0.5208702 & 0.24240635 & 0.19234246\\\\\n",
       "\tAdolescent\\_Birth\\_Rate &  0.76340020 &  0.6584749 &  0.6709990 &  0.7372338 &  1.0000000 & -0.10386621 & -0.6024250 & -0.5440827 & 0.21826712 & 0.15983100\\\\\n",
       "\tWomen\\_share\\_of\\_Seats\\_in\\_Parliament & -0.24772349 & -0.2345743 & -0.2324590 & -0.1520916 & -0.1038662 &  1.00000000 &  0.1693096 &  0.1702654 & 0.21279477 & 0.06542927\\\\\n",
       "\tFemale\\_Population\\_with\\_Some\\_Secondary\\_Education & -0.65255733 & -0.3564104 & -0.3603170 & -0.5874916 & -0.6024250 &  0.16930960 &  1.0000000 &  0.9787175 & 0.10929913 & 0.15879261\\\\\n",
       "\tMale\\_Population\\_with\\_Some\\_Secondary\\_Education & -0.59451722 & -0.2720597 & -0.2739976 & -0.5208702 & -0.5440827 &  0.17026537 &  0.9787175 &  1.0000000 & 0.15219099 & 0.20248229\\\\\n",
       "\tFemale\\_Labour\\_Force\\_Participation\\_Rate &  0.09740211 &  0.2305230 &  0.2411170 &  0.2424064 &  0.2182671 &  0.21279477 &  0.1092991 &  0.1521910 & 1.00000000 & 0.75423320\\\\\n",
       "\tMale\\_Labour\\_Force\\_Participation\\_Rate &  0.15353006 &  0.4253233 &  0.4241309 &  0.1923425 &  0.1598310 &  0.06542927 &  0.1587926 &  0.2024823 & 0.75423320 & 1.00000000\\\\\n",
       "\\end{tabular}\n"
      ],
      "text/markdown": [
       "\n",
       "A matrix: 10 x 10 of type dbl\n",
       "\n",
       "| <!--/--> | HDI_Rank | Gender_Inequality_Index_Value | Gender_Inequality_Index_Rank | Maternal_Mortality_Ratio | Adolescent_Birth_Rate | Women_share_of_Seats_in_Parliament | Female_Population_with_Some_Secondary_Education | Male_Population_with_Some_Secondary_Education | Female_Labour_Force_Participation_Rate | Male_Labour_Force_Participation_Rate |\n",
       "|---|---|---|---|---|---|---|---|---|---|---|\n",
       "| HDI_Rank |  1.00000000 |  0.7514582 |  0.7549718 |  0.6688352 |  0.7634002 | -0.24772349 | -0.6525573 | -0.5945172 | 0.09740211 | 0.15353006 |\n",
       "| Gender_Inequality_Index_Value |  0.75145823 |  1.0000000 |  0.9976621 |  0.6084885 |  0.6584749 | -0.23457433 | -0.3564104 | -0.2720597 | 0.23052301 | 0.42532331 |\n",
       "| Gender_Inequality_Index_Rank |  0.75497181 |  0.9976621 |  1.0000000 |  0.6231101 |  0.6709990 | -0.23245900 | -0.3603170 | -0.2739976 | 0.24111702 | 0.42413094 |\n",
       "| Maternal_Mortality_Ratio |  0.66883515 |  0.6084885 |  0.6231101 |  1.0000000 |  0.7372338 | -0.15209160 | -0.5874916 | -0.5208702 | 0.24240635 | 0.19234246 |\n",
       "| Adolescent_Birth_Rate |  0.76340020 |  0.6584749 |  0.6709990 |  0.7372338 |  1.0000000 | -0.10386621 | -0.6024250 | -0.5440827 | 0.21826712 | 0.15983100 |\n",
       "| Women_share_of_Seats_in_Parliament | -0.24772349 | -0.2345743 | -0.2324590 | -0.1520916 | -0.1038662 |  1.00000000 |  0.1693096 |  0.1702654 | 0.21279477 | 0.06542927 |\n",
       "| Female_Population_with_Some_Secondary_Education | -0.65255733 | -0.3564104 | -0.3603170 | -0.5874916 | -0.6024250 |  0.16930960 |  1.0000000 |  0.9787175 | 0.10929913 | 0.15879261 |\n",
       "| Male_Population_with_Some_Secondary_Education | -0.59451722 | -0.2720597 | -0.2739976 | -0.5208702 | -0.5440827 |  0.17026537 |  0.9787175 |  1.0000000 | 0.15219099 | 0.20248229 |\n",
       "| Female_Labour_Force_Participation_Rate |  0.09740211 |  0.2305230 |  0.2411170 |  0.2424064 |  0.2182671 |  0.21279477 |  0.1092991 |  0.1521910 | 1.00000000 | 0.75423320 |\n",
       "| Male_Labour_Force_Participation_Rate |  0.15353006 |  0.4253233 |  0.4241309 |  0.1923425 |  0.1598310 |  0.06542927 |  0.1587926 |  0.2024823 | 0.75423320 | 1.00000000 |\n",
       "\n"
      ],
      "text/plain": [
       "                                                HDI_Rank   \n",
       "HDI_Rank                                         1.00000000\n",
       "Gender_Inequality_Index_Value                    0.75145823\n",
       "Gender_Inequality_Index_Rank                     0.75497181\n",
       "Maternal_Mortality_Ratio                         0.66883515\n",
       "Adolescent_Birth_Rate                            0.76340020\n",
       "Women_share_of_Seats_in_Parliament              -0.24772349\n",
       "Female_Population_with_Some_Secondary_Education -0.65255733\n",
       "Male_Population_with_Some_Secondary_Education   -0.59451722\n",
       "Female_Labour_Force_Participation_Rate           0.09740211\n",
       "Male_Labour_Force_Participation_Rate             0.15353006\n",
       "                                                Gender_Inequality_Index_Value\n",
       "HDI_Rank                                         0.7514582                   \n",
       "Gender_Inequality_Index_Value                    1.0000000                   \n",
       "Gender_Inequality_Index_Rank                     0.9976621                   \n",
       "Maternal_Mortality_Ratio                         0.6084885                   \n",
       "Adolescent_Birth_Rate                            0.6584749                   \n",
       "Women_share_of_Seats_in_Parliament              -0.2345743                   \n",
       "Female_Population_with_Some_Secondary_Education -0.3564104                   \n",
       "Male_Population_with_Some_Secondary_Education   -0.2720597                   \n",
       "Female_Labour_Force_Participation_Rate           0.2305230                   \n",
       "Male_Labour_Force_Participation_Rate             0.4253233                   \n",
       "                                                Gender_Inequality_Index_Rank\n",
       "HDI_Rank                                         0.7549718                  \n",
       "Gender_Inequality_Index_Value                    0.9976621                  \n",
       "Gender_Inequality_Index_Rank                     1.0000000                  \n",
       "Maternal_Mortality_Ratio                         0.6231101                  \n",
       "Adolescent_Birth_Rate                            0.6709990                  \n",
       "Women_share_of_Seats_in_Parliament              -0.2324590                  \n",
       "Female_Population_with_Some_Secondary_Education -0.3603170                  \n",
       "Male_Population_with_Some_Secondary_Education   -0.2739976                  \n",
       "Female_Labour_Force_Participation_Rate           0.2411170                  \n",
       "Male_Labour_Force_Participation_Rate             0.4241309                  \n",
       "                                                Maternal_Mortality_Ratio\n",
       "HDI_Rank                                         0.6688352              \n",
       "Gender_Inequality_Index_Value                    0.6084885              \n",
       "Gender_Inequality_Index_Rank                     0.6231101              \n",
       "Maternal_Mortality_Ratio                         1.0000000              \n",
       "Adolescent_Birth_Rate                            0.7372338              \n",
       "Women_share_of_Seats_in_Parliament              -0.1520916              \n",
       "Female_Population_with_Some_Secondary_Education -0.5874916              \n",
       "Male_Population_with_Some_Secondary_Education   -0.5208702              \n",
       "Female_Labour_Force_Participation_Rate           0.2424064              \n",
       "Male_Labour_Force_Participation_Rate             0.1923425              \n",
       "                                                Adolescent_Birth_Rate\n",
       "HDI_Rank                                         0.7634002           \n",
       "Gender_Inequality_Index_Value                    0.6584749           \n",
       "Gender_Inequality_Index_Rank                     0.6709990           \n",
       "Maternal_Mortality_Ratio                         0.7372338           \n",
       "Adolescent_Birth_Rate                            1.0000000           \n",
       "Women_share_of_Seats_in_Parliament              -0.1038662           \n",
       "Female_Population_with_Some_Secondary_Education -0.6024250           \n",
       "Male_Population_with_Some_Secondary_Education   -0.5440827           \n",
       "Female_Labour_Force_Participation_Rate           0.2182671           \n",
       "Male_Labour_Force_Participation_Rate             0.1598310           \n",
       "                                                Women_share_of_Seats_in_Parliament\n",
       "HDI_Rank                                        -0.24772349                       \n",
       "Gender_Inequality_Index_Value                   -0.23457433                       \n",
       "Gender_Inequality_Index_Rank                    -0.23245900                       \n",
       "Maternal_Mortality_Ratio                        -0.15209160                       \n",
       "Adolescent_Birth_Rate                           -0.10386621                       \n",
       "Women_share_of_Seats_in_Parliament               1.00000000                       \n",
       "Female_Population_with_Some_Secondary_Education  0.16930960                       \n",
       "Male_Population_with_Some_Secondary_Education    0.17026537                       \n",
       "Female_Labour_Force_Participation_Rate           0.21279477                       \n",
       "Male_Labour_Force_Participation_Rate             0.06542927                       \n",
       "                                                Female_Population_with_Some_Secondary_Education\n",
       "HDI_Rank                                        -0.6525573                                     \n",
       "Gender_Inequality_Index_Value                   -0.3564104                                     \n",
       "Gender_Inequality_Index_Rank                    -0.3603170                                     \n",
       "Maternal_Mortality_Ratio                        -0.5874916                                     \n",
       "Adolescent_Birth_Rate                           -0.6024250                                     \n",
       "Women_share_of_Seats_in_Parliament               0.1693096                                     \n",
       "Female_Population_with_Some_Secondary_Education  1.0000000                                     \n",
       "Male_Population_with_Some_Secondary_Education    0.9787175                                     \n",
       "Female_Labour_Force_Participation_Rate           0.1092991                                     \n",
       "Male_Labour_Force_Participation_Rate             0.1587926                                     \n",
       "                                                Male_Population_with_Some_Secondary_Education\n",
       "HDI_Rank                                        -0.5945172                                   \n",
       "Gender_Inequality_Index_Value                   -0.2720597                                   \n",
       "Gender_Inequality_Index_Rank                    -0.2739976                                   \n",
       "Maternal_Mortality_Ratio                        -0.5208702                                   \n",
       "Adolescent_Birth_Rate                           -0.5440827                                   \n",
       "Women_share_of_Seats_in_Parliament               0.1702654                                   \n",
       "Female_Population_with_Some_Secondary_Education  0.9787175                                   \n",
       "Male_Population_with_Some_Secondary_Education    1.0000000                                   \n",
       "Female_Labour_Force_Participation_Rate           0.1521910                                   \n",
       "Male_Labour_Force_Participation_Rate             0.2024823                                   \n",
       "                                                Female_Labour_Force_Participation_Rate\n",
       "HDI_Rank                                        0.09740211                            \n",
       "Gender_Inequality_Index_Value                   0.23052301                            \n",
       "Gender_Inequality_Index_Rank                    0.24111702                            \n",
       "Maternal_Mortality_Ratio                        0.24240635                            \n",
       "Adolescent_Birth_Rate                           0.21826712                            \n",
       "Women_share_of_Seats_in_Parliament              0.21279477                            \n",
       "Female_Population_with_Some_Secondary_Education 0.10929913                            \n",
       "Male_Population_with_Some_Secondary_Education   0.15219099                            \n",
       "Female_Labour_Force_Participation_Rate          1.00000000                            \n",
       "Male_Labour_Force_Participation_Rate            0.75423320                            \n",
       "                                                Male_Labour_Force_Participation_Rate\n",
       "HDI_Rank                                        0.15353006                          \n",
       "Gender_Inequality_Index_Value                   0.42532331                          \n",
       "Gender_Inequality_Index_Rank                    0.42413094                          \n",
       "Maternal_Mortality_Ratio                        0.19234246                          \n",
       "Adolescent_Birth_Rate                           0.15983100                          \n",
       "Women_share_of_Seats_in_Parliament              0.06542927                          \n",
       "Female_Population_with_Some_Secondary_Education 0.15879261                          \n",
       "Male_Population_with_Some_Secondary_Education   0.20248229                          \n",
       "Female_Labour_Force_Participation_Rate          0.75423320                          \n",
       "Male_Labour_Force_Participation_Rate            1.00000000                          "
      ]
     },
     "metadata": {},
     "output_type": "display_data"
    }
   ],
   "source": [
    "numeric_data = data %>% select_if(is.numeric)\n",
    "corr_matrix = cor(numeric_data)\n",
    "\n",
    "corr_matrix"
   ]
  },
  {
   "attachments": {},
   "cell_type": "markdown",
   "metadata": {},
   "source": [
    "The two clumns `Gender_Inequality_Index_Value` and `Gender_Inequality_Index_Rank` are extremely correlated. We will drop the `Gender_Inequality_Index_Rank` column."
   ]
  },
  {
   "cell_type": "code",
   "execution_count": 122,
   "metadata": {
    "vscode": {
     "languageId": "r"
    }
   },
   "outputs": [],
   "source": [
    "#drop Gender_Inequality_Index_Rank column\n",
    "\n",
    "data = subset(data, select = -c(Gender_Inequality_Index_Rank))"
   ]
  },
  {
   "cell_type": "code",
   "execution_count": 123,
   "metadata": {
    "vscode": {
     "languageId": "r"
    }
   },
   "outputs": [],
   "source": [
    "data_std = data %>% select_if(is.numeric) %>% scale(center = TRUE, scale = TRUE)\n",
    "data_std = data.frame(data_std)"
   ]
  },
  {
   "cell_type": "code",
   "execution_count": 124,
   "metadata": {
    "vscode": {
     "languageId": "r"
    }
   },
   "outputs": [],
   "source": [
    "#split data into train and test\n",
    "\n",
    "set.seed(123)\n",
    "sample = sample(c(TRUE, FALSE), nrow(data_std), replace=TRUE, prob=c(0.7,0.3))\n",
    "train = data_std[sample,]\n",
    "test = data_std[!sample,]"
   ]
  },
  {
   "cell_type": "code",
   "execution_count": 125,
   "metadata": {
    "vscode": {
     "languageId": "r"
    }
   },
   "outputs": [
    {
     "data": {
      "text/plain": [
       "\n",
       "Call:\n",
       "lm(formula = Gender_Inequality_Index_Value ~ ., data = train)\n",
       "\n",
       "Residuals:\n",
       "     Min       1Q   Median       3Q      Max \n",
       "-2.05034 -0.20283  0.00146  0.27339  1.95669 \n",
       "\n",
       "Coefficients:\n",
       "                                                 Estimate Std. Error t value\n",
       "(Intercept)                                      0.003109   0.042860   0.073\n",
       "HDI_Rank                                         0.397586   0.085112   4.671\n",
       "Maternal_Mortality_Ratio                         0.185331   0.071032   2.609\n",
       "Adolescent_Birth_Rate                            0.324655   0.078231   4.150\n",
       "Women_share_of_Seats_in_Parliament              -0.083630   0.045648  -1.832\n",
       "Female_Population_with_Some_Secondary_Education -0.598473   0.257475  -2.324\n",
       "Male_Population_with_Some_Secondary_Education    0.803216   0.244233   3.289\n",
       "Female_Labour_Force_Participation_Rate          -0.304284   0.070872  -4.293\n",
       "Male_Labour_Force_Participation_Rate             0.481908   0.069931   6.891\n",
       "                                                Pr(>|t|)    \n",
       "(Intercept)                                      0.94228    \n",
       "HDI_Rank                                        7.32e-06 ***\n",
       "Maternal_Mortality_Ratio                         0.01013 *  \n",
       "Adolescent_Birth_Rate                           5.95e-05 ***\n",
       "Women_share_of_Seats_in_Parliament               0.06921 .  \n",
       "Female_Population_with_Some_Secondary_Education  0.02164 *  \n",
       "Male_Population_with_Some_Secondary_Education    0.00129 ** \n",
       "Female_Labour_Force_Participation_Rate          3.40e-05 ***\n",
       "Male_Labour_Force_Participation_Rate            2.10e-10 ***\n",
       "---\n",
       "Signif. codes:  0 '***' 0.001 '**' 0.01 '*' 0.05 '.' 0.1 ' ' 1\n",
       "\n",
       "Residual standard error: 0.5011 on 131 degrees of freedom\n",
       "Multiple R-squared:  0.7598,\tAdjusted R-squared:  0.7451 \n",
       "F-statistic:  51.8 on 8 and 131 DF,  p-value: < 2.2e-16\n"
      ]
     },
     "metadata": {},
     "output_type": "display_data"
    }
   ],
   "source": [
    "#linear regression model\n",
    "\n",
    "lm_data = lm(Gender_Inequality_Index_Value ~ ., data = train)\n",
    "summary(lm_data)"
   ]
  },
  {
   "cell_type": "code",
   "execution_count": 126,
   "metadata": {
    "vscode": {
     "languageId": "r"
    }
   },
   "outputs": [
    {
     "name": "stdout",
     "output_type": "stream",
     "text": [
      "RMSE for linear regression model is:  0.5915681"
     ]
    },
    {
     "data": {
      "image/png": "[encoded data removed]",
      "text/plain": [
       "plot without title"
      ]
     },
     "metadata": {
      "image/png": {
       "height": 420,
       "width": 420
      }
     },
     "output_type": "display_data"
    }
   ],
   "source": [
    "\n",
    "#predict on test data\n",
    "lm_pred = predict(lm_data, test)\n",
    "\n",
    "\n",
    "ggplot()+\n",
    "geom_point(aes(x = lm_pred, y = test$Gender_Inequality_Index_Value)) +\n",
    "geom_abline(intercept = 0, slope = 1, color = \"red\") +\n",
    "labs(title = \"Linear Regression Model\", x = \"Predicted\", y = \"Actual\")\n",
    "\n",
    "#calculate rmse\n",
    "lm_rmse = sqrt(mean((test$Gender_Inequality_Index_Value - lm_pred)^2))\n",
    "cat(\"RMSE for linear regression model is: \", lm_rmse)\n"
   ]
  },
  {
   "cell_type": "code",
   "execution_count": 127,
   "metadata": {
    "vscode": {
     "languageId": "r"
    }
   },
   "outputs": [
    {
     "data": {
      "text/html": [
       "0"
      ],
      "text/latex": [
       "0"
      ],
      "text/markdown": [
       "0"
      ],
      "text/plain": [
       "[1] 0"
      ]
     },
     "metadata": {},
     "output_type": "display_data"
    }
   ],
   "source": [
    "sum(is.na(lm_pred))"
   ]
  },
  {
   "cell_type": "code",
   "execution_count": 128,
   "metadata": {
    "vscode": {
     "languageId": "r"
    }
   },
   "outputs": [
    {
     "name": "stdout",
     "output_type": "stream",
     "text": [
      " AIC for linear regression model is:  214.51 \n",
      " BIC for linear regression model is:  243.9264 \n",
      " Adjusted R-squared for linear regression model is:  0.7451306"
     ]
    }
   ],
   "source": [
    "#AIC, BIC and adjusted R-squared for linear regression model\n",
    "\n",
    "lm_aic = AIC(lm_data)\n",
    "lm_bic = BIC(lm_data)\n",
    "lm_adj_r2 = summary(lm_data)$adj.r.squared\n",
    "\n",
    "cat(\" AIC for linear regression model is: \", lm_aic, \"\\n\", \"BIC for linear regression model is: \", lm_bic, \"\\n\", \"Adjusted R-squared for linear regression model is: \", lm_adj_r2)"
   ]
  },
  {
   "cell_type": "code",
   "execution_count": 129,
   "metadata": {
    "vscode": {
     "languageId": "r"
    }
   },
   "outputs": [],
   "source": [
    "#Subset selection\n",
    "\n",
    "#best subset selection\n",
    "best_model = regsubsets(Gender_Inequality_Index_Value ~ ., data = train, nvmax = 8)"
   ]
  },
  {
   "cell_type": "code",
   "execution_count": 130,
   "metadata": {
    "vscode": {
     "languageId": "r"
    }
   },
   "outputs": [],
   "source": [
    "summary_best_model = summary(best_model)"
   ]
  },
  {
   "cell_type": "code",
   "execution_count": 142,
   "metadata": {
    "vscode": {
     "languageId": "r"
    }
   },
   "outputs": [
    {
     "data": {
      "text/plain": [
       "Subset selection object\n",
       "Call: regsubsets.formula(Gender_Inequality_Index_Value ~ ., data = train, \n",
       "    nvmax = 8)\n",
       "8 Variables  (and intercept)\n",
       "                                                Forced in Forced out\n",
       "HDI_Rank                                            FALSE      FALSE\n",
       "Maternal_Mortality_Ratio                            FALSE      FALSE\n",
       "Adolescent_Birth_Rate                               FALSE      FALSE\n",
       "Women_share_of_Seats_in_Parliament                  FALSE      FALSE\n",
       "Female_Population_with_Some_Secondary_Education     FALSE      FALSE\n",
       "Male_Population_with_Some_Secondary_Education       FALSE      FALSE\n",
       "Female_Labour_Force_Participation_Rate              FALSE      FALSE\n",
       "Male_Labour_Force_Participation_Rate                FALSE      FALSE\n",
       "1 subsets of each size up to 8\n",
       "Selection Algorithm: exhaustive\n",
       "         HDI_Rank Maternal_Mortality_Ratio Adolescent_Birth_Rate\n",
       "1  ( 1 ) \"*\"      \" \"                      \" \"                  \n",
       "2  ( 1 ) \"*\"      \" \"                      \" \"                  \n",
       "3  ( 1 ) \"*\"      \" \"                      \"*\"                  \n",
       "4  ( 1 ) \"*\"      \" \"                      \"*\"                  \n",
       "5  ( 1 ) \"*\"      \" \"                      \"*\"                  \n",
       "6  ( 1 ) \"*\"      \"*\"                      \"*\"                  \n",
       "7  ( 1 ) \"*\"      \"*\"                      \"*\"                  \n",
       "8  ( 1 ) \"*\"      \"*\"                      \"*\"                  \n",
       "         Women_share_of_Seats_in_Parliament\n",
       "1  ( 1 ) \" \"                               \n",
       "2  ( 1 ) \" \"                               \n",
       "3  ( 1 ) \" \"                               \n",
       "4  ( 1 ) \" \"                               \n",
       "5  ( 1 ) \" \"                               \n",
       "6  ( 1 ) \" \"                               \n",
       "7  ( 1 ) \" \"                               \n",
       "8  ( 1 ) \"*\"                               \n",
       "         Female_Population_with_Some_Secondary_Education\n",
       "1  ( 1 ) \" \"                                            \n",
       "2  ( 1 ) \" \"                                            \n",
       "3  ( 1 ) \" \"                                            \n",
       "4  ( 1 ) \" \"                                            \n",
       "5  ( 1 ) \" \"                                            \n",
       "6  ( 1 ) \" \"                                            \n",
       "7  ( 1 ) \"*\"                                            \n",
       "8  ( 1 ) \"*\"                                            \n",
       "         Male_Population_with_Some_Secondary_Education\n",
       "1  ( 1 ) \" \"                                          \n",
       "2  ( 1 ) \" \"                                          \n",
       "3  ( 1 ) \" \"                                          \n",
       "4  ( 1 ) \" \"                                          \n",
       "5  ( 1 ) \"*\"                                          \n",
       "6  ( 1 ) \"*\"                                          \n",
       "7  ( 1 ) \"*\"                                          \n",
       "8  ( 1 ) \"*\"                                          \n",
       "         Female_Labour_Force_Participation_Rate\n",
       "1  ( 1 ) \" \"                                   \n",
       "2  ( 1 ) \" \"                                   \n",
       "3  ( 1 ) \" \"                                   \n",
       "4  ( 1 ) \"*\"                                   \n",
       "5  ( 1 ) \"*\"                                   \n",
       "6  ( 1 ) \"*\"                                   \n",
       "7  ( 1 ) \"*\"                                   \n",
       "8  ( 1 ) \"*\"                                   \n",
       "         Male_Labour_Force_Participation_Rate\n",
       "1  ( 1 ) \" \"                                 \n",
       "2  ( 1 ) \"*\"                                 \n",
       "3  ( 1 ) \"*\"                                 \n",
       "4  ( 1 ) \"*\"                                 \n",
       "5  ( 1 ) \"*\"                                 \n",
       "6  ( 1 ) \"*\"                                 \n",
       "7  ( 1 ) \"*\"                                 \n",
       "8  ( 1 ) \"*\"                                 "
      ]
     },
     "metadata": {},
     "output_type": "display_data"
    }
   ],
   "source": [
    "summary_best_model"
   ]
  },
  {
   "cell_type": "code",
   "execution_count": 131,
   "metadata": {
    "vscode": {
     "languageId": "r"
    }
   },
   "outputs": [],
   "source": [
    "min_bic_model = which.min(summary_best_model$bic)\n",
    "max_r2_model = which.max(summary_best_model$adjr2)\n",
    "min_cp_model = which.min(summary_best_model$cp)"
   ]
  },
  {
   "cell_type": "code",
   "execution_count": 132,
   "metadata": {
    "vscode": {
     "languageId": "r"
    }
   },
   "outputs": [
    {
     "name": "stdout",
     "output_type": "stream",
     "text": [
      " Best subset selection model with minimum BIC has 7 predictors \n",
      " Best subset selection model with maximum adjusted R-squared has 8 predictors\n",
      " Best subset selection model with minimum Cp has 8 predictors"
     ]
    }
   ],
   "source": [
    "cat(\" Best subset selection model with minimum BIC has\", min_bic_model, \"predictors \\n\", \"Best subset selection model with maximum adjusted R-squared has\", max_r2_model, \"predictors\\n\", \"Best subset selection model with minimum Cp has\", min_cp_model, \"predictors\")"
   ]
  },
  {
   "attachments": {},
   "cell_type": "markdown",
   "metadata": {},
   "source": [
    "We will choose the model with 8 predictors"
   ]
  },
  {
   "cell_type": "code",
   "execution_count": 133,
   "metadata": {
    "vscode": {
     "languageId": "r"
    }
   },
   "outputs": [],
   "source": [
    "#forward stepwise selection\n",
    "\n",
    "intercept_only = lm(Gender_Inequality_Index_Value ~ 1, data = train)\n",
    "all = lm(Gender_Inequality_Index_Value ~ ., data = train)\n",
    "forward_model = step(intercept_only, direction='forward', scope = formula(all), trace = 0)"
   ]
  },
  {
   "cell_type": "code",
   "execution_count": 134,
   "metadata": {
    "vscode": {
     "languageId": "r"
    }
   },
   "outputs": [
    {
     "data": {
      "text/html": [
       "<table class=\"dataframe\">\n",
       "<caption>A data.frame: 9 x 6</caption>\n",
       "<thead>\n",
       "\t<tr><th scope=col>Step</th><th scope=col>Df</th><th scope=col>Deviance</th><th scope=col>Resid. Df</th><th scope=col>Resid. Dev</th><th scope=col>AIC</th></tr>\n",
       "\t<tr><th scope=col>&lt;I&lt;chr&gt;&gt;</th><th scope=col>&lt;dbl&gt;</th><th scope=col>&lt;dbl&gt;</th><th scope=col>&lt;dbl&gt;</th><th scope=col>&lt;dbl&gt;</th><th scope=col>&lt;dbl&gt;</th></tr>\n",
       "</thead>\n",
       "<tbody>\n",
       "\t<tr><td>                                                 </td><td>NA</td><td>        NA</td><td>139</td><td>136.92084</td><td>  -1.113528</td></tr>\n",
       "\t<tr><td>+ HDI_Rank                                       </td><td>-1</td><td>71.7744151</td><td>138</td><td> 65.14642</td><td>-103.100703</td></tr>\n",
       "\t<tr><td>+ Male_Labour_Force_Participation_Rate           </td><td>-1</td><td>13.6588151</td><td>137</td><td> 51.48761</td><td>-134.042177</td></tr>\n",
       "\t<tr><td>+ Adolescent_Birth_Rate                          </td><td>-1</td><td> 5.0199351</td><td>136</td><td> 46.46767</td><td>-146.403978</td></tr>\n",
       "\t<tr><td>+ Female_Labour_Force_Participation_Rate         </td><td>-1</td><td> 5.0001222</td><td>135</td><td> 41.46755</td><td>-160.342369</td></tr>\n",
       "\t<tr><td>+ Male_Population_with_Some_Secondary_Education  </td><td>-1</td><td> 3.6328340</td><td>134</td><td> 37.83472</td><td>-171.178143</td></tr>\n",
       "\t<tr><td>+ Maternal_Mortality_Ratio                       </td><td>-1</td><td> 2.8630210</td><td>133</td><td> 34.97170</td><td>-180.194473</td></tr>\n",
       "\t<tr><td>+ Female_Population_with_Some_Secondary_Education</td><td>-1</td><td> 1.2405585</td><td>132</td><td> 33.73114</td><td>-183.250948</td></tr>\n",
       "\t<tr><td>+ Women_share_of_Seats_in_Parliament             </td><td>-1</td><td> 0.8426583</td><td>131</td><td> 32.88848</td><td>-184.792801</td></tr>\n",
       "</tbody>\n",
       "</table>\n"
      ],
      "text/latex": [
       "A data.frame: 9 x 6\n",
       "\\begin{tabular}{llllll}\n",
       " Step & Df & Deviance & Resid. Df & Resid. Dev & AIC\\\\\n",
       " <I<chr>> & <dbl> & <dbl> & <dbl> & <dbl> & <dbl>\\\\\n",
       "\\hline\n",
       "\t                                                   & NA &         NA & 139 & 136.92084 &   -1.113528\\\\\n",
       "\t + HDI\\_Rank                                        & -1 & 71.7744151 & 138 &  65.14642 & -103.100703\\\\\n",
       "\t + Male\\_Labour\\_Force\\_Participation\\_Rate            & -1 & 13.6588151 & 137 &  51.48761 & -134.042177\\\\\n",
       "\t + Adolescent\\_Birth\\_Rate                           & -1 &  5.0199351 & 136 &  46.46767 & -146.403978\\\\\n",
       "\t + Female\\_Labour\\_Force\\_Participation\\_Rate          & -1 &  5.0001222 & 135 &  41.46755 & -160.342369\\\\\n",
       "\t + Male\\_Population\\_with\\_Some\\_Secondary\\_Education   & -1 &  3.6328340 & 134 &  37.83472 & -171.178143\\\\\n",
       "\t + Maternal\\_Mortality\\_Ratio                        & -1 &  2.8630210 & 133 &  34.97170 & -180.194473\\\\\n",
       "\t + Female\\_Population\\_with\\_Some\\_Secondary\\_Education & -1 &  1.2405585 & 132 &  33.73114 & -183.250948\\\\\n",
       "\t + Women\\_share\\_of\\_Seats\\_in\\_Parliament              & -1 &  0.8426583 & 131 &  32.88848 & -184.792801\\\\\n",
       "\\end{tabular}\n"
      ],
      "text/markdown": [
       "\n",
       "A data.frame: 9 x 6\n",
       "\n",
       "| Step &lt;I&lt;chr&gt;&gt; | Df &lt;dbl&gt; | Deviance &lt;dbl&gt; | Resid. Df &lt;dbl&gt; | Resid. Dev &lt;dbl&gt; | AIC &lt;dbl&gt; |\n",
       "|---|---|---|---|---|---|\n",
       "| <!----> | NA |         NA | 139 | 136.92084 |   -1.113528 |\n",
       "| + HDI_Rank                                        | -1 | 71.7744151 | 138 |  65.14642 | -103.100703 |\n",
       "| + Male_Labour_Force_Participation_Rate            | -1 | 13.6588151 | 137 |  51.48761 | -134.042177 |\n",
       "| + Adolescent_Birth_Rate                           | -1 |  5.0199351 | 136 |  46.46767 | -146.403978 |\n",
       "| + Female_Labour_Force_Participation_Rate          | -1 |  5.0001222 | 135 |  41.46755 | -160.342369 |\n",
       "| + Male_Population_with_Some_Secondary_Education   | -1 |  3.6328340 | 134 |  37.83472 | -171.178143 |\n",
       "| + Maternal_Mortality_Ratio                        | -1 |  2.8630210 | 133 |  34.97170 | -180.194473 |\n",
       "| + Female_Population_with_Some_Secondary_Education | -1 |  1.2405585 | 132 |  33.73114 | -183.250948 |\n",
       "| + Women_share_of_Seats_in_Parliament              | -1 |  0.8426583 | 131 |  32.88848 | -184.792801 |\n",
       "\n"
      ],
      "text/plain": [
       "  Step                                              Df Deviance   Resid. Df\n",
       "1                                                   NA         NA 139      \n",
       "2 + HDI_Rank                                        -1 71.7744151 138      \n",
       "3 + Male_Labour_Force_Participation_Rate            -1 13.6588151 137      \n",
       "4 + Adolescent_Birth_Rate                           -1  5.0199351 136      \n",
       "5 + Female_Labour_Force_Participation_Rate          -1  5.0001222 135      \n",
       "6 + Male_Population_with_Some_Secondary_Education   -1  3.6328340 134      \n",
       "7 + Maternal_Mortality_Ratio                        -1  2.8630210 133      \n",
       "8 + Female_Population_with_Some_Secondary_Education -1  1.2405585 132      \n",
       "9 + Women_share_of_Seats_in_Parliament              -1  0.8426583 131      \n",
       "  Resid. Dev AIC        \n",
       "1 136.92084    -1.113528\n",
       "2  65.14642  -103.100703\n",
       "3  51.48761  -134.042177\n",
       "4  46.46767  -146.403978\n",
       "5  41.46755  -160.342369\n",
       "6  37.83472  -171.178143\n",
       "7  34.97170  -180.194473\n",
       "8  33.73114  -183.250948\n",
       "9  32.88848  -184.792801"
      ]
     },
     "metadata": {},
     "output_type": "display_data"
    }
   ],
   "source": [
    "forward_model$anova"
   ]
  },
  {
   "cell_type": "code",
   "execution_count": 135,
   "metadata": {
    "vscode": {
     "languageId": "r"
    }
   },
   "outputs": [
    {
     "data": {
      "text/html": [
       "<style>\n",
       ".dl-inline {width: auto; margin:0; padding: 0}\n",
       ".dl-inline>dt, .dl-inline>dd {float: none; width: auto; display: inline-block}\n",
       ".dl-inline>dt::after {content: \":\\0020\"; padding-right: .5ex}\n",
       ".dl-inline>dt:not(:first-of-type) {padding-left: .5ex}\n",
       "</style><dl class=dl-inline><dt>(Intercept)</dt><dd>0.00310906146957071</dd><dt>HDI_Rank</dt><dd>0.397585782838342</dd><dt>Male_Labour_Force_Participation_Rate</dt><dd>0.481907791770922</dd><dt>Adolescent_Birth_Rate</dt><dd>0.324655294607985</dd><dt>Female_Labour_Force_Participation_Rate</dt><dd>-0.304284120832794</dd><dt>Male_Population_with_Some_Secondary_Education</dt><dd>0.803216232393328</dd><dt>Maternal_Mortality_Ratio</dt><dd>0.185331386551379</dd><dt>Female_Population_with_Some_Secondary_Education</dt><dd>-0.598472577703106</dd><dt>Women_share_of_Seats_in_Parliament</dt><dd>-0.0836300501468165</dd></dl>\n"
      ],
      "text/latex": [
       "\\begin{description*}\n",
       "\\item[(Intercept)] 0.00310906146957071\n",
       "\\item[HDI\\textbackslash{}\\_Rank] 0.397585782838342\n",
       "\\item[Male\\textbackslash{}\\_Labour\\textbackslash{}\\_Force\\textbackslash{}\\_Participation\\textbackslash{}\\_Rate] 0.481907791770922\n",
       "\\item[Adolescent\\textbackslash{}\\_Birth\\textbackslash{}\\_Rate] 0.324655294607985\n",
       "\\item[Female\\textbackslash{}\\_Labour\\textbackslash{}\\_Force\\textbackslash{}\\_Participation\\textbackslash{}\\_Rate] -0.304284120832794\n",
       "\\item[Male\\textbackslash{}\\_Population\\textbackslash{}\\_with\\textbackslash{}\\_Some\\textbackslash{}\\_Secondary\\textbackslash{}\\_Education] 0.803216232393328\n",
       "\\item[Maternal\\textbackslash{}\\_Mortality\\textbackslash{}\\_Ratio] 0.185331386551379\n",
       "\\item[Female\\textbackslash{}\\_Population\\textbackslash{}\\_with\\textbackslash{}\\_Some\\textbackslash{}\\_Secondary\\textbackslash{}\\_Education] -0.598472577703106\n",
       "\\item[Women\\textbackslash{}\\_share\\textbackslash{}\\_of\\textbackslash{}\\_Seats\\textbackslash{}\\_in\\textbackslash{}\\_Parliament] -0.0836300501468165\n",
       "\\end{description*}\n"
      ],
      "text/markdown": [
       "(Intercept)\n",
       ":   0.00310906146957071HDI_Rank\n",
       ":   0.397585782838342Male_Labour_Force_Participation_Rate\n",
       ":   0.481907791770922Adolescent_Birth_Rate\n",
       ":   0.324655294607985Female_Labour_Force_Participation_Rate\n",
       ":   -0.304284120832794Male_Population_with_Some_Secondary_Education\n",
       ":   0.803216232393328Maternal_Mortality_Ratio\n",
       ":   0.185331386551379Female_Population_with_Some_Secondary_Education\n",
       ":   -0.598472577703106Women_share_of_Seats_in_Parliament\n",
       ":   -0.0836300501468165\n",
       "\n"
      ],
      "text/plain": [
       "                                    (Intercept) \n",
       "                                    0.003109061 \n",
       "                                       HDI_Rank \n",
       "                                    0.397585783 \n",
       "           Male_Labour_Force_Participation_Rate \n",
       "                                    0.481907792 \n",
       "                          Adolescent_Birth_Rate \n",
       "                                    0.324655295 \n",
       "         Female_Labour_Force_Participation_Rate \n",
       "                                   -0.304284121 \n",
       "  Male_Population_with_Some_Secondary_Education \n",
       "                                    0.803216232 \n",
       "                       Maternal_Mortality_Ratio \n",
       "                                    0.185331387 \n",
       "Female_Population_with_Some_Secondary_Education \n",
       "                                   -0.598472578 \n",
       "             Women_share_of_Seats_in_Parliament \n",
       "                                   -0.083630050 "
      ]
     },
     "metadata": {},
     "output_type": "display_data"
    }
   ],
   "source": [
    "forward_model$coefficients"
   ]
  },
  {
   "cell_type": "code",
   "execution_count": 136,
   "metadata": {
    "vscode": {
     "languageId": "r"
    }
   },
   "outputs": [],
   "source": [
    "#predicting using the best model\n",
    "\n",
    "forward_pred = predict(forward_model, test)\n"
   ]
  },
  {
   "cell_type": "code",
   "execution_count": 137,
   "metadata": {
    "vscode": {
     "languageId": "r"
    }
   },
   "outputs": [
    {
     "name": "stdout",
     "output_type": "stream",
     "text": [
      "RMSE for forward stepwise selection model is:  0.5915681"
     ]
    }
   ],
   "source": [
    "#calculate rmse\n",
    "forward_rmse = sqrt(mean((test$Gender_Inequality_Index_Value - forward_pred)^2))\n",
    "cat(\"RMSE for forward stepwise selection model is: \", forward_rmse)"
   ]
  },
  {
   "cell_type": "code",
   "execution_count": 138,
   "metadata": {
    "vscode": {
     "languageId": "r"
    }
   },
   "outputs": [],
   "source": [
    "backward = step(all, direction='backward', scope=formula(all), trace=0)"
   ]
  },
  {
   "cell_type": "code",
   "execution_count": 139,
   "metadata": {
    "vscode": {
     "languageId": "r"
    }
   },
   "outputs": [
    {
     "data": {
      "text/html": [
       "<table class=\"dataframe\">\n",
       "<caption>A data.frame: 1 x 6</caption>\n",
       "<thead>\n",
       "\t<tr><th scope=col>Step</th><th scope=col>Df</th><th scope=col>Deviance</th><th scope=col>Resid. Df</th><th scope=col>Resid. Dev</th><th scope=col>AIC</th></tr>\n",
       "\t<tr><th scope=col>&lt;I&lt;chr&gt;&gt;</th><th scope=col>&lt;dbl&gt;</th><th scope=col>&lt;dbl&gt;</th><th scope=col>&lt;dbl&gt;</th><th scope=col>&lt;dbl&gt;</th><th scope=col>&lt;dbl&gt;</th></tr>\n",
       "</thead>\n",
       "<tbody>\n",
       "\t<tr><td></td><td>NA</td><td>NA</td><td>131</td><td>32.88848</td><td>-184.7928</td></tr>\n",
       "</tbody>\n",
       "</table>\n"
      ],
      "text/latex": [
       "A data.frame: 1 x 6\n",
       "\\begin{tabular}{llllll}\n",
       " Step & Df & Deviance & Resid. Df & Resid. Dev & AIC\\\\\n",
       " <I<chr>> & <dbl> & <dbl> & <dbl> & <dbl> & <dbl>\\\\\n",
       "\\hline\n",
       "\t  & NA & NA & 131 & 32.88848 & -184.7928\\\\\n",
       "\\end{tabular}\n"
      ],
      "text/markdown": [
       "\n",
       "A data.frame: 1 x 6\n",
       "\n",
       "| Step &lt;I&lt;chr&gt;&gt; | Df &lt;dbl&gt; | Deviance &lt;dbl&gt; | Resid. Df &lt;dbl&gt; | Resid. Dev &lt;dbl&gt; | AIC &lt;dbl&gt; |\n",
       "|---|---|---|---|---|---|\n",
       "| <!----> | NA | NA | 131 | 32.88848 | -184.7928 |\n",
       "\n"
      ],
      "text/plain": [
       "  Step Df Deviance Resid. Df Resid. Dev AIC      \n",
       "1      NA NA       131       32.88848   -184.7928"
      ]
     },
     "metadata": {},
     "output_type": "display_data"
    }
   ],
   "source": [
    "backward_model$anova"
   ]
  },
  {
   "cell_type": "code",
   "execution_count": 140,
   "metadata": {
    "vscode": {
     "languageId": "r"
    }
   },
   "outputs": [
    {
     "data": {
      "text/html": [
       "<style>\n",
       ".dl-inline {width: auto; margin:0; padding: 0}\n",
       ".dl-inline>dt, .dl-inline>dd {float: none; width: auto; display: inline-block}\n",
       ".dl-inline>dt::after {content: \":\\0020\"; padding-right: .5ex}\n",
       ".dl-inline>dt:not(:first-of-type) {padding-left: .5ex}\n",
       "</style><dl class=dl-inline><dt>(Intercept)</dt><dd>0.00310906146957073</dd><dt>HDI_Rank</dt><dd>0.397585782838342</dd><dt>Maternal_Mortality_Ratio</dt><dd>0.185331386551379</dd><dt>Adolescent_Birth_Rate</dt><dd>0.324655294607985</dd><dt>Women_share_of_Seats_in_Parliament</dt><dd>-0.0836300501468165</dd><dt>Female_Population_with_Some_Secondary_Education</dt><dd>-0.598472577703105</dd><dt>Male_Population_with_Some_Secondary_Education</dt><dd>0.803216232393327</dd><dt>Female_Labour_Force_Participation_Rate</dt><dd>-0.304284120832794</dd><dt>Male_Labour_Force_Participation_Rate</dt><dd>0.481907791770923</dd></dl>\n"
      ],
      "text/latex": [
       "\\begin{description*}\n",
       "\\item[(Intercept)] 0.00310906146957073\n",
       "\\item[HDI\\textbackslash{}\\_Rank] 0.397585782838342\n",
       "\\item[Maternal\\textbackslash{}\\_Mortality\\textbackslash{}\\_Ratio] 0.185331386551379\n",
       "\\item[Adolescent\\textbackslash{}\\_Birth\\textbackslash{}\\_Rate] 0.324655294607985\n",
       "\\item[Women\\textbackslash{}\\_share\\textbackslash{}\\_of\\textbackslash{}\\_Seats\\textbackslash{}\\_in\\textbackslash{}\\_Parliament] -0.0836300501468165\n",
       "\\item[Female\\textbackslash{}\\_Population\\textbackslash{}\\_with\\textbackslash{}\\_Some\\textbackslash{}\\_Secondary\\textbackslash{}\\_Education] -0.598472577703105\n",
       "\\item[Male\\textbackslash{}\\_Population\\textbackslash{}\\_with\\textbackslash{}\\_Some\\textbackslash{}\\_Secondary\\textbackslash{}\\_Education] 0.803216232393327\n",
       "\\item[Female\\textbackslash{}\\_Labour\\textbackslash{}\\_Force\\textbackslash{}\\_Participation\\textbackslash{}\\_Rate] -0.304284120832794\n",
       "\\item[Male\\textbackslash{}\\_Labour\\textbackslash{}\\_Force\\textbackslash{}\\_Participation\\textbackslash{}\\_Rate] 0.481907791770923\n",
       "\\end{description*}\n"
      ],
      "text/markdown": [
       "(Intercept)\n",
       ":   0.00310906146957073HDI_Rank\n",
       ":   0.397585782838342Maternal_Mortality_Ratio\n",
       ":   0.185331386551379Adolescent_Birth_Rate\n",
       ":   0.324655294607985Women_share_of_Seats_in_Parliament\n",
       ":   -0.0836300501468165Female_Population_with_Some_Secondary_Education\n",
       ":   -0.598472577703105Male_Population_with_Some_Secondary_Education\n",
       ":   0.803216232393327Female_Labour_Force_Participation_Rate\n",
       ":   -0.304284120832794Male_Labour_Force_Participation_Rate\n",
       ":   0.481907791770923\n",
       "\n"
      ],
      "text/plain": [
       "                                    (Intercept) \n",
       "                                    0.003109061 \n",
       "                                       HDI_Rank \n",
       "                                    0.397585783 \n",
       "                       Maternal_Mortality_Ratio \n",
       "                                    0.185331387 \n",
       "                          Adolescent_Birth_Rate \n",
       "                                    0.324655295 \n",
       "             Women_share_of_Seats_in_Parliament \n",
       "                                   -0.083630050 \n",
       "Female_Population_with_Some_Secondary_Education \n",
       "                                   -0.598472578 \n",
       "  Male_Population_with_Some_Secondary_Education \n",
       "                                    0.803216232 \n",
       "         Female_Labour_Force_Participation_Rate \n",
       "                                   -0.304284121 \n",
       "           Male_Labour_Force_Participation_Rate \n",
       "                                    0.481907792 "
      ]
     },
     "metadata": {},
     "output_type": "display_data"
    }
   ],
   "source": [
    "backward$coefficients"
   ]
  },
  {
   "cell_type": "code",
   "execution_count": 141,
   "metadata": {
    "vscode": {
     "languageId": "r"
    }
   },
   "outputs": [
    {
     "name": "stdout",
     "output_type": "stream",
     "text": [
      "RMSE for backward stepwise selection model is:  0.5915681"
     ]
    }
   ],
   "source": [
    "#predicting using backward model\n",
    "\n",
    "backward_pred = predict(backward, test)\n",
    "\n",
    "#calculate rmse\n",
    "backward_rmse = sqrt(mean((test$Gender_Inequality_Index_Value - backward_pred)^2))\n",
    "cat(\"RMSE for backward stepwise selection model is: \", backward_rmse)"
   ]
  }
 ],
 "metadata": {
  "kernelspec": {
   "display_name": "R",
   "language": "R",
   "name": "ir"
  },
  "language_info": {
   "codemirror_mode": "r",
   "file_extension": ".r",
   "mimetype": "text/x-r-source",
   "name": "R",
   "pygments_lexer": "r",
   "version": "4.2.2"
  },
  "orig_nbformat": 4
 },
 "nbformat": 4,
 "nbformat_minor": 2
}
